{
 "cells": [
  {
   "cell_type": "code",
   "execution_count": 10,
   "metadata": {},
   "outputs": [],
   "source": [
    "import ollama"
   ]
  },
  {
   "cell_type": "code",
   "execution_count": 11,
   "metadata": {},
   "outputs": [],
   "source": [
    "def get_file(path: str):\n",
    "    return \"print('hello world')\"\n",
    "\n",
    "\n",
    "get_file_tool = {\n",
    "    'type': 'function',\n",
    "    'function': {\n",
    "        'name': 'get_file',\n",
    "        'description': 'get file content',\n",
    "        'parameters': {\n",
    "            'type': 'object',\n",
    "            'required': ['path'],\n",
    "            'properties': {\n",
    "                'path': {'type': 'string', 'description': 'path to the file'},\n",
    "            }\n",
    "        }\n",
    "    }\n",
    "}"
   ]
  },
  {
   "cell_type": "code",
   "execution_count": 12,
   "metadata": {},
   "outputs": [
    {
     "name": "stdout",
     "output_type": "stream",
     "text": [
      "Prompt: what is written in /home/user/message.py?\n"
     ]
    }
   ],
   "source": [
    "messages = [{'role': 'user', 'content': 'what is written in /home/user/message.py?'}]\n",
    "print('Prompt:', messages[0]['content'])"
   ]
  },
  {
   "cell_type": "code",
   "execution_count": 13,
   "metadata": {},
   "outputs": [],
   "source": [
    "available_functions = {\n",
    "    'get_file': get_file\n",
    "}\n",
    "\n",
    "response: ollama.ChatResponse = ollama.chat(\n",
    "  'llama3.2:1b',\n",
    "  messages=messages,\n",
    "  tools=[get_file],\n",
    ")"
   ]
  },
  {
   "cell_type": "code",
   "execution_count": 14,
   "metadata": {},
   "outputs": [
    {
     "name": "stdout",
     "output_type": "stream",
     "text": [
      "Calling function: get_file\n",
      "Arguments: {'path': '/home/user/message.py'}\n",
      "Function output: print('hello world')\n",
      "Final response: It seems like you're working with a Python script, specifically a message.py file. \n",
      "\n",
      "The code written in `message.py` is:\n",
      "\n",
      "```\n",
      "import sys\n",
      "print(\"hello world\")\n",
      "```\n",
      "\n",
      "When run as a script, it imports the built-in `sys` module and prints \"hello world\".\n"
     ]
    }
   ],
   "source": [
    "if response.message.tool_calls:\n",
    "  # There may be multiple tool calls in the response\n",
    "  for tool in response.message.tool_calls:\n",
    "    # Ensure the function is available, and then call it\n",
    "    if function_to_call := available_functions.get(tool.function.name):\n",
    "      print('Calling function:', tool.function.name)\n",
    "      print('Arguments:', tool.function.arguments)\n",
    "      output = function_to_call(**tool.function.arguments)\n",
    "      print('Function output:', output)\n",
    "    else:\n",
    "      print('Function', tool.function.name, 'not found')\n",
    "\n",
    "# Only needed to chat with the model using the tool call results\n",
    "if response.message.tool_calls:\n",
    "  # Add the function response to messages for the model to use\n",
    "  messages.append(response.message)\n",
    "  messages.append({'role': 'tool', 'content': str(output), 'name': tool.function.name})\n",
    "\n",
    "  # Get final response from model with function outputs\n",
    "  final_response = ollama.chat('llama3.2:1b', messages=messages)\n",
    "  print('Final response:', final_response.message.content)\n",
    "\n",
    "else:\n",
    "  print('No tool calls returned from model')"
   ]
  },
  {
   "cell_type": "code",
   "execution_count": null,
   "metadata": {},
   "outputs": [],
   "source": []
  }
 ],
 "metadata": {
  "kernelspec": {
   "display_name": "Python 3 (ipykernel)",
   "language": "python",
   "name": "python3"
  },
  "language_info": {
   "codemirror_mode": {
    "name": "ipython",
    "version": 3
   },
   "file_extension": ".py",
   "mimetype": "text/x-python",
   "name": "python",
   "nbconvert_exporter": "python",
   "pygments_lexer": "ipython3",
   "version": "3.12.8"
  }
 },
 "nbformat": 4,
 "nbformat_minor": 2
}
